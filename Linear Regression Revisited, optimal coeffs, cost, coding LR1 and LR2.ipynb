{
 "cells": [
  {
   "cell_type": "code",
   "execution_count": 1,
   "metadata": {
    "collapsed": true
   },
   "outputs": [],
   "source": [
    "import numpy as np\n",
    "import pandas as pd\n"
   ]
  },
  {
   "cell_type": "code",
   "execution_count": 2,
   "metadata": {
    "collapsed": true
   },
   "outputs": [],
   "source": [
    "data=np.loadtxt('data.csv',delimiter=',')"
   ]
  },
  {
   "cell_type": "code",
   "execution_count": 7,
   "metadata": {
    "collapsed": true
   },
   "outputs": [],
   "source": [
    "X,Y=data[:,0],data[:,1]\n",
    "from sklearn import model_selection as ms\n"
   ]
  },
  {
   "cell_type": "code",
   "execution_count": 19,
   "metadata": {
    "collapsed": true
   },
   "outputs": [],
   "source": [
    "X_train,X_test,Y_train,Y_test=ms.train_test_split(X,Y)\n",
    "from sklearn.linear_model import LinearRegression as LR\n",
    "\n",
    "alg1=LR()\n",
    "alg1.fit(X_train.reshape(-1,1),Y_train)\n",
    "ypred = alg1.predict(X_test.reshape(-1,1))"
   ]
  },
  {
   "cell_type": "code",
   "execution_count": 30,
   "metadata": {},
   "outputs": [
    {
     "data": {
      "image/png": "[encoded data removed]",
      "text/plain": [
       "<matplotlib.figure.Figure at 0xfc0bc88>"
      ]
     },
     "metadata": {},
     "output_type": "display_data"
    },
    {
     "data": {
      "text/plain": [
       "<function matplotlib.pyplot.close>"
      ]
     },
     "execution_count": 30,
     "metadata": {},
     "output_type": "execute_result"
    }
   ],
   "source": [
    "import matplotlib.pyplot as plt\n",
    "plt.scatter(ypred,Y_test,color='black',label='data')\n",
    "plt.hold\n",
    "line=np.linspace(40,100,100)\n",
    "plt.plot(line,line,color='blue',label='line')\n",
    "plt.xlabel('Ypredicted')\n",
    "plt.ylabel('Y_testing')\n",
    "plt.legend()\n",
    "plt.show()\n",
    "plt.close"
   ]
  },
  {
   "cell_type": "code",
   "execution_count": 36,
   "metadata": {},
   "outputs": [
    {
     "data": {
      "image/png": "[encoded data removed]",
      "text/plain": [
       "<matplotlib.figure.Figure at 0x104d0400>"
      ]
     },
     "metadata": {},
     "output_type": "display_data"
    }
   ],
   "source": [
    "#alternate print mechanism\n",
    "m=alg1.coef_[0]\n",
    "c=alg1.intercept_\n",
    "x=np.linspace(20,80,100)\n",
    "y=m*x+c\n",
    "plt.plot(x,y,'b')\n",
    "plt.scatter(X,Y,color='green')\n",
    "plt.show()"
   ]
  },
  {
   "cell_type": "code",
   "execution_count": 22,
   "metadata": {},
   "outputs": [
    {
     "name": "stdout",
     "output_type": "stream",
     "text": [
      "25.1284846478\n"
     ]
    }
   ],
   "source": [
    "dummy=X.copy()\n",
    "print min(X)"
   ]
  },
  {
   "cell_type": "code",
   "execution_count": 37,
   "metadata": {},
   "outputs": [
    {
     "name": "stdout",
     "output_type": "stream",
     "text": [
      "[ 32.50234527  53.42680403  61.53035803  47.47563963  59.81320787\n",
      "  55.14218841  52.21179669  39.29956669  48.10504169  52.55001444\n",
      "  45.41973014  54.35163488  44.1640495   58.16847072  56.72720806\n",
      "  48.95588857  44.68719623  60.29732685  45.61864377  38.81681754\n",
      "  66.18981661  65.41605175  47.48120861  41.57564262  51.84518691\n",
      "  59.37082201  57.31000344  63.61556125  46.73761941  50.55676015\n",
      "  52.22399609  35.56783005  42.43647694  58.16454011  57.50444762\n",
      "  45.44053073  61.89622268  33.09383174  36.43600951  37.67565486\n",
      "  44.55560838  43.31828263  50.07314563  43.87061265  62.99748075\n",
      "  32.66904376  40.16689901  53.57507753  33.86421497  64.70713867\n",
      "  38.11982403  44.50253806  40.59953838  41.72067636  51.08863468\n",
      "  55.0780959   41.37772653  62.49469743  49.20388754  41.10268519\n",
      "  41.18201611  50.18638949  52.37844622  50.13548549  33.64470601\n",
      "  39.55790122  56.13038882  57.36205213  60.26921439  35.67809389\n",
      "  31.588117    53.66093226  46.68222865  43.10782022  70.34607562\n",
      "  44.49285588  57.5045333   36.93007661  55.80573336  38.95476907\n",
      "  56.9012147   56.86890066  34.3331247   59.04974121  57.78822399\n",
      "  54.28232871  51.0887199   50.28283635  44.21174175  38.00548801\n",
      "  32.94047994  53.69163957  68.76573427  46.2309665   68.31936082\n",
      "  50.03017434  49.23976534  50.03957594  48.14985889  25.12848465]\n",
      "\n",
      "\n",
      "\n",
      "[[ 32.50234527]\n",
      " [ 53.42680403]\n",
      " [ 61.53035803]\n",
      " [ 47.47563963]\n",
      " [ 59.81320787]\n",
      " [ 55.14218841]\n",
      " [ 52.21179669]\n",
      " [ 39.29956669]\n",
      " [ 48.10504169]\n",
      " [ 52.55001444]\n",
      " [ 45.41973014]\n",
      " [ 54.35163488]\n",
      " [ 44.1640495 ]\n",
      " [ 58.16847072]\n",
      " [ 56.72720806]\n",
      " [ 48.95588857]\n",
      " [ 44.68719623]\n",
      " [ 60.29732685]\n",
      " [ 45.61864377]\n",
      " [ 38.81681754]\n",
      " [ 66.18981661]\n",
      " [ 65.41605175]\n",
      " [ 47.48120861]\n",
      " [ 41.57564262]\n",
      " [ 51.84518691]\n",
      " [ 59.37082201]\n",
      " [ 57.31000344]\n",
      " [ 63.61556125]\n",
      " [ 46.73761941]\n",
      " [ 50.55676015]\n",
      " [ 52.22399609]\n",
      " [ 35.56783005]\n",
      " [ 42.43647694]\n",
      " [ 58.16454011]\n",
      " [ 57.50444762]\n",
      " [ 45.44053073]\n",
      " [ 61.89622268]\n",
      " [ 33.09383174]\n",
      " [ 36.43600951]\n",
      " [ 37.67565486]\n",
      " [ 44.55560838]\n",
      " [ 43.31828263]\n",
      " [ 50.07314563]\n",
      " [ 43.87061265]\n",
      " [ 62.99748075]\n",
      " [ 32.66904376]\n",
      " [ 40.16689901]\n",
      " [ 53.57507753]\n",
      " [ 33.86421497]\n",
      " [ 64.70713867]\n",
      " [ 38.11982403]\n",
      " [ 44.50253806]\n",
      " [ 40.59953838]\n",
      " [ 41.72067636]\n",
      " [ 51.08863468]\n",
      " [ 55.0780959 ]\n",
      " [ 41.37772653]\n",
      " [ 62.49469743]\n",
      " [ 49.20388754]\n",
      " [ 41.10268519]\n",
      " [ 41.18201611]\n",
      " [ 50.18638949]\n",
      " [ 52.37844622]\n",
      " [ 50.13548549]\n",
      " [ 33.64470601]\n",
      " [ 39.55790122]\n",
      " [ 56.13038882]\n",
      " [ 57.36205213]\n",
      " [ 60.26921439]\n",
      " [ 35.67809389]\n",
      " [ 31.588117  ]\n",
      " [ 53.66093226]\n",
      " [ 46.68222865]\n",
      " [ 43.10782022]\n",
      " [ 70.34607562]\n",
      " [ 44.49285588]\n",
      " [ 57.5045333 ]\n",
      " [ 36.93007661]\n",
      " [ 55.80573336]\n",
      " [ 38.95476907]\n",
      " [ 56.9012147 ]\n",
      " [ 56.86890066]\n",
      " [ 34.3331247 ]\n",
      " [ 59.04974121]\n",
      " [ 57.78822399]\n",
      " [ 54.28232871]\n",
      " [ 51.0887199 ]\n",
      " [ 50.28283635]\n",
      " [ 44.21174175]\n",
      " [ 38.00548801]\n",
      " [ 32.94047994]\n",
      " [ 53.69163957]\n",
      " [ 68.76573427]\n",
      " [ 46.2309665 ]\n",
      " [ 68.31936082]\n",
      " [ 50.03017434]\n",
      " [ 49.23976534]\n",
      " [ 50.03957594]\n",
      " [ 48.14985889]\n",
      " [ 25.12848465]]\n"
     ]
    }
   ],
   "source": [
    "print dummy\n",
    "print \n",
    "print\n",
    "print\n",
    "\n",
    "print dummy.reshape(-1,1)"
   ]
  },
  {
   "cell_type": "code",
   "execution_count": 85,
   "metadata": {},
   "outputs": [],
   "source": [
    "# self coding the linear regression \n",
    "def Cost(X,Y):\n",
    "   \n",
    "    m=((X*Y).mean()-X.mean()*Y.mean())/((X*X).mean() - (X.mean()*X.mean()))\n",
    "    c= Y.mean()-m*X.mean()\n",
    "    return m,c\n",
    "\n",
    "def cost(Y1,Y2):\n",
    "    cost= sum((Y1-Y2)**2)\n",
    "   \n",
    "    return cost\n",
    "\n",
    "def score(Y1,Y2):\n",
    "    \n",
    "    u=sum((Y1-Y2)**2)\n",
    "    v=sum((Y1-Y1.mean())**2)\n",
    "    return (1-(u/v))\n",
    "\n"
   ]
  },
  {
   "cell_type": "code",
   "execution_count": 86,
   "metadata": {},
   "outputs": [
    {
     "name": "stdout",
     "output_type": "stream",
     "text": [
      "0.263966501785\n"
     ]
    }
   ],
   "source": [
    "[m,c]=Cost(X_train,Y_train)\n",
    "ypred=m*X_test+c\n",
    "print score(Y_test,ypred)\n"
   ]
  },
  {
   "cell_type": "code",
   "execution_count": 87,
   "metadata": {},
   "outputs": [
    {
     "data": {
      "text/plain": [
       "array([ 3,  8, 15])"
      ]
     },
     "execution_count": 87,
     "metadata": {},
     "output_type": "execute_result"
    }
   ],
   "source": [
    "a=np.array([1,2,3])\n",
    "b=np.array([3,4,5])\n",
    "a*b"
   ]
  },
  {
   "cell_type": "code",
   "execution_count": null,
   "metadata": {
    "collapsed": true
   },
   "outputs": [],
   "source": []
  }
 ],
 "metadata": {
  "kernelspec": {
   "display_name": "Python 2",
   "language": "python",
   "name": "python2"
  },
  "language_info": {
   "codemirror_mode": {
    "name": "ipython",
    "version": 2
   },
   "file_extension": ".py",
   "mimetype": "text/x-python",
   "name": "python",
   "nbconvert_exporter": "python",
   "pygments_lexer": "ipython2",
   "version": "2.7.14"
  }
 },
 "nbformat": 4,
 "nbformat_minor": 2
}
