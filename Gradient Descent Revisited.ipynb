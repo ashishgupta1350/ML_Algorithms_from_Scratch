{
 "cells": [
  {
   "cell_type": "code",
   "execution_count": 1,
   "metadata": {
    "collapsed": true
   },
   "outputs": [],
   "source": [
    "import numpy as np\n",
    "import pandas as pd\n"
   ]
  },
  {
   "cell_type": "code",
   "execution_count": 60,
   "metadata": {
    "collapsed": true
   },
   "outputs": [],
   "source": [
    "data=np.loadtxt('data.csv',delimiter=',')\n"
   ]
  },
  {
   "cell_type": "code",
   "execution_count": 62,
   "metadata": {
    "collapsed": true
   },
   "outputs": [],
   "source": [
    "def cost(data,m,c):\n",
    "    Cost=0\n",
    "    for i in range(len(data)):\n",
    "        Cost+=((data[i][0]*m+c)-data[i][1])**2\n",
    "    return Cost/(len(data))"
   ]
  },
  {
   "cell_type": "code",
   "execution_count": 127,
   "metadata": {},
   "outputs": [],
   "source": [
    "def step_gradient(data,lRate,m,c):\n",
    "    N=len(data)\n",
    "    sum1=0\n",
    "    sum2=0\n",
    "    for i in range(N):\n",
    "        x=data[i][0]\n",
    "        y=data[i][1]\n",
    "        sum1+=(y-(m*x+c))*x\n",
    "        sum2+=(y-(m*x+c))\n",
    "    new_m= m - lRate*(-2/N)*sum1\n",
    "    new_c= c - lRate*(-2/N)*sum2\n",
    "    #print 'm and c are : ', new_m,new_c\n",
    "    return new_m,new_c\n",
    "\n",
    "def gradient_descent(data,lRate,numIter):\n",
    "    #data is assumed to be 2 columns and m rows !\n",
    "    m=1\n",
    "    c=1\n",
    "    for i in range(numIter):\n",
    "        \n",
    "        '''complexsum1=0\n",
    "        complexsum2=0\n",
    "        for j in range(len(data)):\n",
    "            complexsum1+=-1*(Y[j]-(m*data[j][1]+c))*data[j][1]\n",
    "            complexsum2+=-1*(Y[j]-(m*data[j][1]+c))\n",
    "        dbydmofcostfunction=(2/len(data))*complexsum1\n",
    "        dbydcofcostfunction=(2/len(data))*complexsum2\n",
    "        m=m-lrate*(dbydmofcostfunction)\n",
    "        c=c-lrate*(dbydcofcostfunction)\n",
    "        print m,c,costFunction(data,Y,m,c)'''\n",
    "        \n",
    "        \n",
    "        m,c=step_gradient(data,lRate,m,c)\n",
    "        print 'cost is : ', cost(data,m,c)\n",
    "        \n",
    "    return m,c\n"
   ]
  },
  {
   "cell_type": "code",
   "execution_count": 135,
   "metadata": {},
   "outputs": [],
   "source": [
    "def run():\n",
    "    data=np.loadtxt('data.csv',delimiter=',')\n",
    "    learningRate=0.000001\n",
    "    numIterations=100\n",
    "    m,c=gradient_descent(data,learningRate,numIterations)\n",
    "    print m,c\n",
    "    "
   ]
  },
  {
   "cell_type": "code",
   "execution_count": 136,
   "metadata": {},
   "outputs": [
    {
     "name": "stdout",
     "output_type": "stream",
     "text": [
      "cost is :  409.013322311\n",
      "cost is :  279.472656942\n",
      "cost is :  206.449005869\n",
      "cost is :  165.284681575\n",
      "cost is :  142.079846391\n",
      "cost is :  128.998993153\n",
      "cost is :  121.62515139\n",
      "cost is :  117.468421248\n",
      "cost is :  115.125215966\n",
      "cost is :  113.804316655\n",
      "cost is :  113.059703624\n",
      "cost is :  112.639950163\n",
      "cost is :  112.403323984\n",
      "cost is :  112.269928876\n",
      "cost is :  112.194726375\n",
      "cost is :  112.152327753\n",
      "cost is :  112.128421075\n",
      "cost is :  112.114938531\n",
      "cost is :  112.107332198\n",
      "cost is :  112.103038357\n",
      "cost is :  112.100611807\n",
      "cost is :  112.099237871\n",
      "cost is :  112.098457308\n",
      "cost is :  112.098011236\n",
      "cost is :  112.09775372\n",
      "cost is :  112.097602496\n",
      "cost is :  112.09751119\n",
      "cost is :  112.097453661\n",
      "cost is :  112.097415172\n",
      "cost is :  112.097387416\n",
      "cost is :  112.097365711\n",
      "cost is :  112.097347416\n",
      "cost is :  112.097331045\n",
      "cost is :  112.097315757\n",
      "cost is :  112.09730108\n",
      "cost is :  112.097286748\n",
      "cost is :  112.09727261\n",
      "cost is :  112.097258582\n",
      "cost is :  112.097244615\n",
      "cost is :  112.097230684\n",
      "cost is :  112.097216772\n",
      "cost is :  112.097202871\n",
      "cost is :  112.097188976\n",
      "cost is :  112.097175085\n",
      "cost is :  112.097161196\n",
      "cost is :  112.097147309\n",
      "cost is :  112.097133422\n",
      "cost is :  112.097119536\n",
      "cost is :  112.09710565\n",
      "cost is :  112.097091764\n",
      "cost is :  112.097077878\n",
      "cost is :  112.097063992\n",
      "cost is :  112.097050107\n",
      "cost is :  112.097036222\n",
      "cost is :  112.097022336\n",
      "cost is :  112.097008451\n",
      "cost is :  112.096994566\n",
      "cost is :  112.096980681\n",
      "cost is :  112.096966797\n",
      "cost is :  112.096952912\n",
      "cost is :  112.096939027\n",
      "cost is :  112.096925143\n",
      "cost is :  112.096911259\n",
      "cost is :  112.096897374\n",
      "cost is :  112.09688349\n",
      "cost is :  112.096869606\n",
      "cost is :  112.096855722\n",
      "cost is :  112.096841838\n",
      "cost is :  112.096827955\n",
      "cost is :  112.096814071\n",
      "cost is :  112.096800187\n",
      "cost is :  112.096786304\n",
      "cost is :  112.096772421\n",
      "cost is :  112.096758538\n",
      "cost is :  112.096744654\n",
      "cost is :  112.096730771\n",
      "cost is :  112.096716889\n",
      "cost is :  112.096703006\n",
      "cost is :  112.096689123\n",
      "cost is :  112.09667524\n",
      "cost is :  112.096661358\n",
      "cost is :  112.096647476\n",
      "cost is :  112.096633593\n",
      "cost is :  112.096619711\n",
      "cost is :  112.096605829\n",
      "cost is :  112.096591947\n",
      "cost is :  112.096578065\n",
      "cost is :  112.096564184\n",
      "cost is :  112.096550302\n",
      "cost is :  112.09653642\n",
      "cost is :  112.096522539\n",
      "cost is :  112.096508658\n",
      "cost is :  112.096494776\n",
      "cost is :  112.096480895\n",
      "cost is :  112.096467014\n",
      "cost is :  112.096453133\n",
      "cost is :  112.096439253\n",
      "cost is :  112.096425372\n",
      "cost is :  112.096411491\n",
      "cost is :  112.096397611\n",
      "1.45960806152 1.01166889398\n"
     ]
    }
   ],
   "source": [
    "run()"
   ]
  }
 ],
 "metadata": {
  "kernelspec": {
   "display_name": "Python 2",
   "language": "python",
   "name": "python2"
  },
  "language_info": {
   "codemirror_mode": {
    "name": "ipython",
    "version": 2
   },
   "file_extension": ".py",
   "mimetype": "text/x-python",
   "name": "python",
   "nbconvert_exporter": "python",
   "pygments_lexer": "ipython2",
   "version": "2.7.14"
  }
 },
 "nbformat": 4,
 "nbformat_minor": 2
}
