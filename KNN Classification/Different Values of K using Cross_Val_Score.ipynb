{
 "cells": [
  {
   "cell_type": "code",
   "execution_count": 1,
   "metadata": {},
   "outputs": [],
   "source": [
    "from sklearn import datasets as ds\n",
    "from sklearn.neighbors import KNeighborsClassifier\n",
    "from sklearn.model_selection import train_test_split as tts\n",
    "from sklearn.model_selection import cross_val_score\n",
    "import numpy as np\n",
    "#import k fold?"
   ]
  },
  {
   "cell_type": "code",
   "execution_count": 2,
   "metadata": {
    "collapsed": true
   },
   "outputs": [],
   "source": [
    "data=ds.load_breast_cancer()\n",
    "X=data.data\n",
    "Y=data.target\n",
    "\n",
    "X_train,X_test,Y_train,Y_test=tts(X,Y)\n"
   ]
  },
  {
   "cell_type": "code",
   "execution_count": 3,
   "metadata": {
    "collapsed": true
   },
   "outputs": [],
   "source": [
    "\n",
    "#lets plot the result too\n",
    "xAxis=[]\n",
    "yAxis=[]\n",
    "\n"
   ]
  },
  {
   "cell_type": "code",
   "execution_count": 4,
   "metadata": {},
   "outputs": [
    {
     "name": "stdout",
     "output_type": "stream",
     "text": [
      "1 0.9014384875937168\n",
      "3 0.9178542298110773\n",
      "5 0.9295920175452689\n",
      "7 0.934270437716647\n",
      "9 0.934253789363169\n",
      "11 0.9295256569754621\n",
      "13 0.9295092414660889\n",
      "15 0.9295256569754621\n",
      "17 0.9319063715227935\n",
      "19 0.9271782391350866\n",
      "21 0.9201357527698552\n",
      "23 0.9224998189637086\n",
      "25 0.9201688166327063\n",
      "27 0.9154573325984773\n",
      "29 0.9154737481078506\n",
      "31 0.9154573325984773\n",
      "33 0.9084312617426192\n",
      "35 0.9084312617426192\n",
      "37 0.9037528415712414\n",
      "39 0.9060671955487658\n",
      "41 0.9037197777083903\n",
      "43 0.9013557115145368\n",
      "45 0.9060671955487658\n",
      "47 0.9037361932177634\n",
      "49 0.9037361932177634\n"
     ]
    }
   ],
   "source": [
    "for i in range(1,50,2):\n",
    "    clf=KNeighborsClassifier(n_neighbors=i)\n",
    "    xAxis.append(i)\n",
    "    \n",
    "    score=cross_val_score(clf,X_train,Y_train)\n",
    "    print(i,score.mean())\n",
    "    \n",
    "    yAxis.append(score.mean())\n",
    "    "
   ]
  },
  {
   "cell_type": "code",
   "execution_count": 5,
   "metadata": {},
   "outputs": [
    {
     "data": {
      "image/png": "[encoded data removed]",
      "text/plain": [
       "<matplotlib.figure.Figure at 0x210d4641ac8>"
      ]
     },
     "metadata": {},
     "output_type": "display_data"
    }
   ],
   "source": [
    "import matplotlib.pyplot as plt\n",
    "\n",
    "plt.scatter(xAxis,yAxis,color='red')\n",
    "x=np.linspace(min(xAxis),max(xAxis),100)\n",
    "plt.show()\n",
    "plt.close()"
   ]
  },
  {
   "cell_type": "code",
   "execution_count": 6,
   "metadata": {},
   "outputs": [
    {
     "data": {
      "image/png": "[encoded data removed]",
      "text/plain": [
       "<matplotlib.figure.Figure at 0x210d4641a58>"
      ]
     },
     "metadata": {},
     "output_type": "display_data"
    }
   ],
   "source": [
    "plt.plot(xAxis,yAxis,color='orange')\n",
    "x=np.linspace(min(xAxis),max(xAxis),100)\n",
    "plt.show()\n",
    "plt.close()"
   ]
  },
  {
   "cell_type": "code",
   "execution_count": 7,
   "metadata": {},
   "outputs": [
    {
     "data": {
      "text/plain": [
       "LinearRegression(copy_X=True, fit_intercept=True, n_jobs=1, normalize=False)"
      ]
     },
     "execution_count": 7,
     "metadata": {},
     "output_type": "execute_result"
    }
   ],
   "source": [
    "from sklearn.linear_model import LinearRegression as LR\n",
    "\n",
    "clf1=LR()\n",
    "# so xAxis is a 1d non numpy array, hence I cannot use the reshape tool\n",
    "\n",
    "xAxis_np=np.array(xAxis)\n",
    "\n",
    "clf1.fit(xAxis_np.reshape(-1,1),yAxis)\n",
    "\n"
   ]
  },
  {
   "cell_type": "code",
   "execution_count": 8,
   "metadata": {},
   "outputs": [
    {
     "name": "stdout",
     "output_type": "stream",
     "text": [
      "['__abstractmethods__', '__class__', '__delattr__', '__dict__', '__dir__', '__doc__', '__eq__', '__format__', '__ge__', '__getattribute__', '__getstate__', '__gt__', '__hash__', '__init__', '__init_subclass__', '__le__', '__lt__', '__module__', '__ne__', '__new__', '__reduce__', '__reduce_ex__', '__repr__', '__setattr__', '__setstate__', '__sizeof__', '__str__', '__subclasshook__', '__weakref__', '_abc_cache', '_abc_negative_cache', '_abc_negative_cache_version', '_abc_registry', '_decision_function', '_estimator_type', '_get_param_names', '_preprocess_data', '_residues', '_set_intercept', 'coef_', 'copy_X', 'fit', 'fit_intercept', 'get_params', 'intercept_', 'n_jobs', 'normalize', 'predict', 'rank_', 'score', 'set_params', 'singular_']\n"
     ]
    }
   ],
   "source": [
    "print (dir(clf1))\n",
    "\n",
    "m=(clf1.coef_)\n",
    "c=clf1.intercept_\n",
    "\n"
   ]
  },
  {
   "cell_type": "code",
   "execution_count": 9,
   "metadata": {},
   "outputs": [
    {
     "data": {
      "image/png": "[encoded data removed]",
      "text/plain": [
       "<matplotlib.figure.Figure at 0x210dd3abb70>"
      ]
     },
     "metadata": {},
     "output_type": "display_data"
    }
   ],
   "source": [
    "plt.scatter(xAxis,yAxis,color='red')\n",
    "x=np.linspace(min(xAxis),max(xAxis),100)\n",
    "plt.plot(x,m*x+c,'b')\n",
    "plt.show()\n",
    "\n",
    "plt.close()"
   ]
  }
 ],
 "metadata": {
  "kernelspec": {
   "display_name": "Python 3",
   "language": "python",
   "name": "python3"
  },
  "language_info": {
   "codemirror_mode": {
    "name": "ipython",
    "version": 3
   },
   "file_extension": ".py",
   "mimetype": "text/x-python",
   "name": "python",
   "nbconvert_exporter": "python",
   "pygments_lexer": "ipython3",
   "version": "3.6.3"
  }
 },
 "nbformat": 4,
 "nbformat_minor": 2
}
