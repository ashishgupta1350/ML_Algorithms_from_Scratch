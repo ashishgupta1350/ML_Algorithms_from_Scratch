{
 "cells": [
  {
   "cell_type": "code",
   "execution_count": 29,
   "metadata": {
    "collapsed": true
   },
   "outputs": [],
   "source": [
    "from sklearn import datasets as ds\n",
    "from sklearn.neighbors import KNeighborsClassifier\n",
    "from sklearn.model_selection import train_test_split as tts\n",
    "from sklearn.model_selection import cross_val_score\n",
    "import numpy as np\n",
    "from sklearn.metrics import accuracy_score\n",
    "\n",
    "\n",
    "from collections import Counter # new thing , gets the count of each of the digits or elements in the set or tuple\n",
    "#imported all dependencies"
   ]
  },
  {
   "cell_type": "code",
   "execution_count": 2,
   "metadata": {
    "collapsed": true
   },
   "outputs": [],
   "source": [
    "data=ds.load_breast_cancer()\n",
    "X=data.data\n",
    "Y=data.target\n",
    "\n",
    "X_train,X_test,Y_train,Y_test=tts(X,Y)\n",
    "\n"
   ]
  },
  {
   "cell_type": "code",
   "execution_count": 43,
   "metadata": {
    "collapsed": true
   },
   "outputs": [],
   "source": [
    "# from the last code we get n_neighbors = 7 as the best accuracy k.\n",
    "\n",
    "def predictOnOne(X_train,Y_train,testData,k):\n",
    "    # we have to measure the distance of all the data points from our point, then sort that in increasing order along with the corresponding ytrain and then return the prediction based on the KNN\n",
    "    distances=[]\n",
    "    for i in range(len(X_train)):\n",
    "        distance=((testData[:]-X_train[i,:])**2).sum()\n",
    "        distances.append([distance,i])\n",
    "    distances=sorted(distances)\n",
    "    index_of_target=0\n",
    "    targets=[]\n",
    "    for i in range(k):\n",
    "        index_of_target=distances[i][1]\n",
    "        targets.append(Y_train[index_of_target])\n",
    "    return Counter(targets).most_common(1)[0][0]\n",
    "\n",
    "def predict(X_train,Y_train,X_test_data,k):\n",
    "    predictions=[]\n",
    "    for testData in X_test_data:\n",
    "        pred_value=predictOnOne(X_train,Y_train,testData,k)\n",
    "        predictions.append(pred_value)\n",
    "    return predictions"
   ]
  },
  {
   "cell_type": "code",
   "execution_count": 44,
   "metadata": {},
   "outputs": [
    {
     "data": {
      "text/plain": [
       "0.9230769230769231"
      ]
     },
     "execution_count": 44,
     "metadata": {},
     "output_type": "execute_result"
    }
   ],
   "source": [
    "ypred=predict(X_train,Y_train,X_test,7)\n",
    "accuracy_score(Y_test,ypred)\n"
   ]
  },
  {
   "cell_type": "code",
   "execution_count": null,
   "metadata": {
    "collapsed": true
   },
   "outputs": [],
   "source": []
  },
  {
   "cell_type": "code",
   "execution_count": null,
   "metadata": {
    "collapsed": true
   },
   "outputs": [],
   "source": []
  }
 ],
 "metadata": {
  "kernelspec": {
   "display_name": "Python 2",
   "language": "python",
   "name": "python2"
  },
  "language_info": {
   "codemirror_mode": {
    "name": "ipython",
    "version": 2
   },
   "file_extension": ".py",
   "mimetype": "text/x-python",
   "name": "python",
   "nbconvert_exporter": "python",
   "pygments_lexer": "ipython2",
   "version": "2.7.14"
  }
 },
 "nbformat": 4,
 "nbformat_minor": 2
}
