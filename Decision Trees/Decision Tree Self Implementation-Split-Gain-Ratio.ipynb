{
 "cells": [
  {
   "cell_type": "code",
   "execution_count": 1,
   "metadata": {
    "collapsed": true
   },
   "outputs": [],
   "source": [
    "import numpy as np\n",
    "import sklearn.datasets as ds\n",
    "import pandas as pd"
   ]
  },
  {
   "cell_type": "code",
   "execution_count": 2,
   "metadata": {
    "collapsed": true
   },
   "outputs": [],
   "source": [
    "class treeNode:\n",
    "    matrix=0\n",
    "    yeses=0\n",
    "    nos=0\n",
    "    links=[]\n",
    "    info=0\n",
    "    def __init__(self,matrix,yeses,nos,num_links):\n",
    "        self.matrix=matrix\n",
    "        self.yeses=yeses\n",
    "        self.nos=nos\n",
    "        self.links= []\n",
    "        \n",
    "        "
   ]
  },
  {
   "cell_type": "code",
   "execution_count": 3,
   "metadata": {
    "collapsed": true
   },
   "outputs": [],
   "source": [
    "def countYes(vec):\n",
    "    count = len(vec[vec[:]==1])\n",
    "    return count\n",
    "def countNo(vec):\n",
    "    return len(vec)-countYes(vec)\n",
    "\n",
    "#working fine"
   ]
  },
  {
   "cell_type": "code",
   "execution_count": 4,
   "metadata": {},
   "outputs": [
    {
     "data": {
      "text/plain": [
       "'M = np.array([[1, 2 , 0, 0], [0, 3, 1, 1], [1, 2, 2, 1], [1, 2, 1,1]])\\ngetMaxYesorNo(M)\\n'"
      ]
     },
     "execution_count": 4,
     "metadata": {},
     "output_type": "execute_result"
    }
   ],
   "source": [
    "def countAndGetFeatures(vec1):\n",
    "    d={}\n",
    "    for i in range(len(vec1)):\n",
    "        d[vec1[i]]=1\n",
    "    count=len(d)\n",
    "    arr=[]\n",
    "    for i in d:\n",
    "        arr.append(i)\n",
    "    return [count,arr]\n",
    "\n",
    "\n",
    "'''vec=np.array ([1,2,3,4,1,1,1])\n",
    "print countAndGetFeatures(vec)'''\n",
    "#count and get Features code is working fine\n",
    "\n",
    "def getMaxYesorNo(Matrix):\n",
    "    N=Matrix.shape[1]\n",
    "    M=len(Matrix)\n",
    "    X=len(Matrix[Matrix[:,N-1]==0])\n",
    "    return max(X,M-X)\n",
    "\n",
    "'''M = np.array([[1, 2 , 0, 0], [0, 3, 1, 1], [1, 2, 2, 1], [1, 2, 1,1]])\n",
    "getMaxYesorNo(M)\n",
    "'''\n",
    "#Get Max Yes or No is working fine"
   ]
  },
  {
   "cell_type": "code",
   "execution_count": 5,
   "metadata": {},
   "outputs": [
    {
     "name": "stdout",
     "output_type": "stream",
     "text": [
      "working good\n"
     ]
    }
   ],
   "source": [
    "def countAndgetFeaturesUpdated(vec):\n",
    "    d={}\n",
    "    for i in range(len(vec)):\n",
    "        d[vec[i]]=0\n",
    "    for i in range(len(vec)):\n",
    "        d[vec[i]]+=1\n",
    "    count=len(d)\n",
    "    arr=[]\n",
    "    for i in d:\n",
    "        arr.append(i)\n",
    "    num_features_array=[]\n",
    "    for i in arr:\n",
    "        num_features_array.append(d[i])\n",
    "    return [count,arr,num_features_array]\n",
    "'''vec=np.array ([1,2,3,4,1,1,1])\n",
    "print countAndgetFeaturesUpdated(vec)'''\n",
    "print 'working good'\n",
    "\n",
    "def pilogpi(Matrix):\n",
    "    #getting a matrix with pure values then return 0 else calc and return value\n",
    "    ans=0.0\n",
    "    yeses=0.0\n",
    "    nos=0.0\n",
    "    N=Matrix.shape[1]\n",
    "    yeses+=len(Matrix[Matrix[:,N-1]==1])\n",
    "    nos+=len(Matrix[Matrix[:,N-1]==0])\n",
    "    M=len(Matrix)\n",
    "    if yeses==M or nos==M: return 0\n",
    "    \n",
    "    ans+=(-1*(yeses/(yeses+nos))*np.log(yeses/(yeses+nos)))\n",
    "    ans+=(-1*(nos/(yeses+nos))*np.log(nos/(yeses+nos)))\n",
    "    return ans\n",
    "\n",
    "'''M=np.array([[1,1,1],[1,0,1],[0,1,1],[0,0,0]])\n",
    "print pilogpi(M)'''\n",
    "#pi log pi is working good\n",
    "\n",
    "def dilogdi(di,d):\n",
    "    if di==0:\n",
    "        return 0\n",
    "    ans=0.0\n",
    "    di_function=0.0+di\n",
    "    ans+=(-1*(di_function/d)*np.log(di_function/d))\n",
    "    return ans\n",
    "\n",
    "def calcInfo(Matrix):\n",
    "    N=Matrix.shape[1]\n",
    "    yeses=0.0\n",
    "    nos=0.0\n",
    "    ans=0.0\n",
    "    yeses+=len(Matrix[Matrix[:,N-1]==1])\n",
    "    nos+=len(Matrix[Matrix[:,N-1]==0])\n",
    "    M=len(Matrix)\n",
    "    if yeses==M or nos==M: return 0\n",
    "    ans+=(-1*(yeses/(yeses+nos))*np.log(yeses/(yeses+nos)))\n",
    "    ans+=(-1*(nos/(yeses+nos))*np.log(nos/(yeses+nos)))\n",
    "    return ans\n",
    "M=np.array([[1,1,1],[1,0,1],[0,1,1],[0,0,0]])\n",
    "\n",
    "#working good calcInfo Function"
   ]
  },
  {
   "cell_type": "code",
   "execution_count": null,
   "metadata": {
    "collapsed": true
   },
   "outputs": [],
   "source": []
  },
  {
   "cell_type": "code",
   "execution_count": 6,
   "metadata": {},
   "outputs": [
    {
     "name": "stdout",
     "output_type": "stream",
     "text": [
      "working fine\n"
     ]
    }
   ],
   "source": [
    "''' This is extra added code after everything else is working fine'''\n",
    "\n",
    "def decideFeatureSplitRatio(Matrix,isUsed,infoRoot):\n",
    "    ret_i=0\n",
    "    largestGainRatio=0.0\n",
    "    infoGain=0.0\n",
    "    splitInfo=0.0\n",
    "    info=0.0\n",
    "    ret_info=0.0\n",
    "    \n",
    "    N=Matrix.shape[1]\n",
    "    M=len(Matrix)\n",
    "    for i in range(N-1):\n",
    "        if isUsed[i] : continue\n",
    "        count,features,featureCount=countAndgetFeaturesUpdated(Matrix[:,i])\n",
    "        \n",
    "        for ind in range(len(features)):\n",
    "            info+=-(featureCount[ind]/len(Matrix))*pilogpi(Matrix[Matrix[:,i]==features[ind]])\n",
    "            splitInfo+=dilogdi(featureCount[ind],M)\n",
    "        gainRatio=(infoRoot-info-0.0)/(splitInfo+0.0)\n",
    "        if largestGainRatio<(gainRatio):\n",
    "            largestGainRatio=gainRatio\n",
    "            ret_info=info\n",
    "            ret_i=i\n",
    "    return [largestGainRatio,ret_info,ret_i]\n",
    "\n",
    "'''M=np.array([[1,1,1],[1,0,1],[0,1,1],[0,0,0]])\n",
    "print decideFeatureSplitRatio(M,[False,False],2)'''\n",
    "print 'working fine'"
   ]
  },
  {
   "cell_type": "code",
   "execution_count": 7,
   "metadata": {},
   "outputs": [
    {
     "name": "stdout",
     "output_type": "stream",
     "text": [
      "working successfully\n"
     ]
    }
   ],
   "source": [
    "def decideFeature(Matrix,isUsed):\n",
    "    ret_i=0.0\n",
    "    largest_acc=0.0\n",
    "    N=Matrix.shape[1]\n",
    "    for i in range(N-1):\n",
    "        Sum=0.0\n",
    "        if(isUsed[i]): continue\n",
    "        count,features=countAndGetFeatures(Matrix[:,i])\n",
    "        for j in range(len(features)):\n",
    "            tempMatrix=Matrix[Matrix[:,i]==features[j]]\n",
    "            Sum+=getMaxYesorNo(tempMatrix)  #represents prediction on that value\n",
    "        acc=(Sum/count)#formula for the accuracy\n",
    "        if largest_acc<acc:\n",
    "            largest_acc=acc\n",
    "            ret_i=i\n",
    "    return [ret_i,largest_acc]\n",
    "\n",
    "'''isUsed=[False,False,False]\n",
    "M = np.array([[1, 2 , 0, 0], [0, 3, 1, 1], [1, 2, 2, 1], [1, 2, 1, 0]])\n",
    "print decideFeature(M,isUsed)'''\n",
    "\n",
    "print 'working successfully'\n",
    "#this is awesome that decide Features is also working fine\n"
   ]
  },
  {
   "cell_type": "code",
   "execution_count": 8,
   "metadata": {},
   "outputs": [
    {
     "data": {
      "text/plain": [
       "'x,y=np.mgrid[0:5,0:5]\\nprint checkPure(x)'"
      ]
     },
     "execution_count": 8,
     "metadata": {},
     "output_type": "execute_result"
    }
   ],
   "source": [
    "def checkPure(Matrix):\n",
    "    flag=0\n",
    "    N=Matrix.shape[1]\n",
    "    C=Matrix[:,N-1]\n",
    "    flag=C[0]\n",
    "    for i in range(len(C)):\n",
    "        if C[i]!=flag:\n",
    "            return False\n",
    "    return True\n",
    "#check pure is working fine\n",
    "'''x,y=np.mgrid[0:5,0:5]\n",
    "print checkPure(x)'''"
   ]
  },
  {
   "cell_type": "code",
   "execution_count": 9,
   "metadata": {
    "collapsed": true
   },
   "outputs": [],
   "source": [
    "def isUsedAllTrue(isUsed):\n",
    "    flag=0\n",
    "    for i in range(len(isUsed)):\n",
    "        if isUsed[i]==False:\n",
    "            flag=1\n",
    "            break\n",
    "    if not flag:\n",
    "          return True\n",
    "    return False\n",
    "#working fine"
   ]
  },
  {
   "cell_type": "code",
   "execution_count": 10,
   "metadata": {
    "collapsed": true
   },
   "outputs": [],
   "source": [
    "def makeDecisionTree(Matrix,isUsed):\n",
    "    \n",
    "    #calcuating info for the root node\n",
    "    info=0.0+calcInfo(Matrix)\n",
    "    \n",
    "    #please see the condition when isUsed is complete\n",
    "    N=Matrix.shape[1]\n",
    "    if(isUsedAllTrue(isUsed)):\n",
    "        root=treeNode(Matrix,countYes(Matrix[:,N-1]),countNo(Matrix[:,N-1]),0)#check this, how it fits in the grand scheme of things\n",
    "        root.info=info\n",
    "        return root\n",
    "            \n",
    "    \n",
    "    if(checkPure(Matrix)):\n",
    "        root=treeNode(Matrix,countYes(Matrix),countNo(Matrix),0) #0 represents there are no further links to this node\n",
    "        root.info=info\n",
    "        return root #this has to be checked, since I want to return only the address of the root node and not the whole node\n",
    "    \n",
    "    #gain ratio based implementation for advanced  \n",
    "    gainRatio,info,ind=decideFeatureSplitRatio(Matrix,isUsed,info)\n",
    "    Matrix=Matrix[Matrix[:,ind].argsort()]\n",
    "    isUsed[ind]=True #check these\n",
    "    \n",
    "    #create a root node and populate it with the matrix\n",
    "    cCount,features=countAndGetFeatures(Matrix[:,ind]) #cCount is Children Count\n",
    "    \n",
    "    root=treeNode(Matrix,countYes(Matrix[:,N-1]),countNo(Matrix[:,N-1]), cCount)#check this, how it fits in the grand scheme of things\n",
    "    root.info=info\n",
    "    #call to create its children and link the children to the main root\n",
    "    for j in range(cCount):\n",
    "        node=makeDecisionTree(Matrix[Matrix[:,ind]==features[j]],isUsed)\n",
    "        root.links.append(node)\n",
    "    #return the base adress of this root node to the user\n",
    "    return root"
   ]
  },
  {
   "cell_type": "code",
   "execution_count": 15,
   "metadata": {},
   "outputs": [
    {
     "name": "stdout",
     "output_type": "stream",
     "text": [
      "Count of 0 =  1\n",
      "Count of 1 =  3\n",
      "Current Entropy at is  0.244219050288\n",
      "\n",
      "Count of 0 =  0\n",
      "Count of 1 =  2\n",
      "Current Entropy at is  0.0\n",
      "\n",
      "Count of 0 =  1\n",
      "Count of 1 =  1\n",
      "Current Entropy at is  0.301029995664\n",
      "\n",
      "Count of 0 =  0\n",
      "Count of 1 =  1\n",
      "Current Entropy at is  0.0\n",
      "\n",
      "Count of 0 =  1\n",
      "Count of 1 =  0\n",
      "Current Entropy at is  0.0\n",
      "\n"
     ]
    }
   ],
   "source": [
    "def run():\n",
    "    \n",
    "    M=np.array([[1,1,1],[1,0,1],[0,1,1],[0,0,0]])\n",
    "    isUsed=[False,False]\n",
    "    root= makeDecisionTree(M,isUsed)\n",
    "    q=[]\n",
    "    q.append(root)\n",
    "    level=0\n",
    "    while len(q)!=0:\n",
    "        root=q.pop()\n",
    "        print 'Count of 0 = ',root.nos\n",
    "        print 'Count of 1 = ',root.yeses\n",
    "        print 'Current Entropy at is ', calcInfo(root.matrix)\n",
    "        print\n",
    "        children=(len(root.links))\n",
    "        for i in range(children):\n",
    "            q.append(root.links[i])\n",
    "run()\n"
   ]
  }
 ],
 "metadata": {
  "kernelspec": {
   "display_name": "Python 2",
   "language": "python",
   "name": "python2"
  },
  "language_info": {
   "codemirror_mode": {
    "name": "ipython",
    "version": 2
   },
   "file_extension": ".py",
   "mimetype": "text/x-python",
   "name": "python",
   "nbconvert_exporter": "python",
   "pygments_lexer": "ipython2",
   "version": "2.7.14"
  }
 },
 "nbformat": 4,
 "nbformat_minor": 2
}
