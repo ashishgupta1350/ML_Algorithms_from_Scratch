{
 "cells": [
  {
   "cell_type": "code",
   "execution_count": 1,
   "metadata": {
    "collapsed": true
   },
   "outputs": [],
   "source": [
    "import numpy as np\n",
    "import sklearn.datasets as ds\n",
    "import pandas as pd"
   ]
  },
  {
   "cell_type": "code",
   "execution_count": 2,
   "metadata": {
    "collapsed": true
   },
   "outputs": [],
   "source": [
    "class treeNode:\n",
    "    matrix=0\n",
    "    yeses=0\n",
    "    nos=0\n",
    "    links=[]\n",
    "    \n",
    "    def __init__(self,matrix,yeses,nos,num_links):\n",
    "        self.matrix=matrix\n",
    "        self.yeses=yeses\n",
    "        self.nos=nos\n",
    "        self.links= []\n",
    "        \n",
    "        "
   ]
  },
  {
   "cell_type": "code",
   "execution_count": 3,
   "metadata": {},
   "outputs": [],
   "source": [
    "def countYes(vec):\n",
    "    count = len(vec[vec[:]==1])\n",
    "    return count\n",
    "def countNo(vec):\n",
    "    return len(vec)-countYes(vec)\n",
    "\n",
    "#working fine"
   ]
  },
  {
   "cell_type": "code",
   "execution_count": 35,
   "metadata": {},
   "outputs": [
    {
     "data": {
      "text/plain": [
       "'M = np.array([[1, 2 , 0, 0], [0, 3, 1, 1], [1, 2, 2, 1], [1, 2, 1,1]])\\ngetMaxYesorNo(M)\\n'"
      ]
     },
     "execution_count": 35,
     "metadata": {},
     "output_type": "execute_result"
    }
   ],
   "source": [
    "def countAndGetFeatures(vec1):\n",
    "    d={}\n",
    "    for i in range(len(vec1)):\n",
    "        d[vec1[i]]=1\n",
    "    count=len(d)\n",
    "    arr=[]\n",
    "    for i in d:\n",
    "        arr.append(i)\n",
    "    return [count,arr]\n",
    "\n",
    "\n",
    "'''vec=np.array ([1,2,3,4,1,1,1])\n",
    "print countAndGetFeatures(vec)'''\n",
    "#count and get Features code is working fine\n",
    "\n",
    "def getMaxYesorNo(Matrix):\n",
    "    N=Matrix.shape[1]\n",
    "    M=len(Matrix)\n",
    "    X=len(Matrix[Matrix[:,N-1]==0])\n",
    "    return max(X,M-X)\n",
    "\n",
    "'''M = np.array([[1, 2 , 0, 0], [0, 3, 1, 1], [1, 2, 2, 1], [1, 2, 1,1]])\n",
    "getMaxYesorNo(M)\n",
    "'''\n",
    "#Get Max Yes or No is working fine"
   ]
  },
  {
   "cell_type": "code",
   "execution_count": null,
   "metadata": {
    "collapsed": true
   },
   "outputs": [],
   "source": [
    "''' This is extra added code after everything else is working fine'''"
   ]
  },
  {
   "cell_type": "code",
   "execution_count": 5,
   "metadata": {},
   "outputs": [
    {
     "name": "stdout",
     "output_type": "stream",
     "text": [
      "working successfully\n"
     ]
    }
   ],
   "source": [
    "def decideFeature(Matrix,isUsed,infoRoot):\n",
    "    ret_i=0.0\n",
    "    largest_acc=0.0\n",
    "    N=Matrix.shape[1]\n",
    "    for i in range(N-1):\n",
    "        Sum=0.0\n",
    "        if(isUsed[i]): continue\n",
    "        count,features=countAndGetFeatures(Matrix[:,i])\n",
    "        for j in range(len(features)):\n",
    "            tempMatrix=Matrix[Matrix[:,i]==features[j]]\n",
    "            Sum+=getMaxYesorNo(tempMatrix)  #represents prediction on that value\n",
    "        acc=(Sum/count)#formula for the accuracy\n",
    "        if largest_acc<acc:\n",
    "            largest_acc=acc\n",
    "            ret_i=i\n",
    "    return [ret_i,largest_acc]\n",
    "\n",
    "'''isUsed=[False,False,False]\n",
    "M = np.array([[1, 2 , 0, 0], [0, 3, 1, 1], [1, 2, 2, 1], [1, 2, 1, 0]])\n",
    "print decideFeature(M,isUsed)'''\n",
    "\n",
    "print 'working successfully'\n",
    "#this is awesome that decide Features is also working fine\n"
   ]
  },
  {
   "cell_type": "code",
   "execution_count": 6,
   "metadata": {},
   "outputs": [
    {
     "data": {
      "text/plain": [
       "'x,y=np.mgrid[0:5,0:5]\\nprint checkPure(x)'"
      ]
     },
     "execution_count": 6,
     "metadata": {},
     "output_type": "execute_result"
    }
   ],
   "source": [
    "def checkPure(Matrix):\n",
    "    flag=0\n",
    "    N=Matrix.shape[1]\n",
    "    C=Matrix[:,N-1]\n",
    "    flag=C[0]\n",
    "    for i in range(len(C)):\n",
    "        if C[i]!=flag:\n",
    "            return False\n",
    "    return True\n",
    "#check pure is working fine\n",
    "'''x,y=np.mgrid[0:5,0:5]\n",
    "print checkPure(x)'''"
   ]
  },
  {
   "cell_type": "code",
   "execution_count": 7,
   "metadata": {},
   "outputs": [],
   "source": [
    "def isUsedAllTrue(isUsed):\n",
    "    flag=0\n",
    "    for i in range(len(isUsed)):\n",
    "        if isUsed[i]==False:\n",
    "            flag=1\n",
    "            break\n",
    "    if not flag:\n",
    "          return True\n",
    "    return False\n",
    "#working fine"
   ]
  },
  {
   "cell_type": "code",
   "execution_count": 33,
   "metadata": {},
   "outputs": [],
   "source": [
    "def makeDecisionTree(Matrix,isUsed):\n",
    "    \n",
    "    #please see the condition when isUsed is complete\n",
    "    N=Matrix.shape[1]\n",
    "    if(isUsedAllTrue(isUsed)):\n",
    "        root=treeNode(Matrix,countYes(Matrix[:,N-1]),countNo(Matrix[:,N-1]),0)#check this, how it fits in the grand scheme of things\n",
    "        return root\n",
    "            \n",
    "    \n",
    "    if(checkPure(Matrix)):\n",
    "        root=treeNode(Matrix,countYes(Matrix),countNo(Matrix),0) #0 represents there are no further links to this node\n",
    "        return root #this has to be checked, since I want to return only the address of the root node and not the whole node\n",
    "    \n",
    "    \n",
    "    #accuracy based implementation for starters\n",
    "    ind,acc=decideFeature(Matrix,isUsed)\n",
    "    Matrix=Matrix[Matrix[:,ind].argsort()]\n",
    "    isUsed[ind]=True #check these\n",
    "    \n",
    "    #create a root node and populate it with the matrix\n",
    "    cCount,features=countAndGetFeatures(Matrix[:,ind]) #cCount is Children Count\n",
    "    \n",
    "    root=treeNode(Matrix,countYes(Matrix[:,N-1]),countNo(Matrix[:,N-1]), cCount)#check this, how it fits in the grand scheme of things\n",
    "    \n",
    "    #call to create its children and link the children to the main root\n",
    "    for j in range(cCount):\n",
    "        nodeAddr=makeDecisionTree(Matrix[Matrix[:,ind]==features[j]],isUsed)\n",
    "        root.links.append(nodeAddr)\n",
    "    #return the base adress of this root node to the user\n",
    "    return root"
   ]
  },
  {
   "cell_type": "code",
   "execution_count": 34,
   "metadata": {},
   "outputs": [
    {
     "name": "stdout",
     "output_type": "stream",
     "text": [
      "3 1  ----- >\n",
      "[[0 1 1]\n",
      " [0 0 0]\n",
      " [1 1 1]\n",
      " [1 0 1]]\n",
      "\n",
      "2 0  ----- >\n",
      "[[1 1 1]\n",
      " [1 0 1]]\n",
      "\n",
      "1 1  ----- >\n",
      "[[0 0 0]\n",
      " [0 1 1]]\n",
      "\n",
      "1 0  ----- >\n",
      "[[0 1 1]]\n",
      "\n",
      "0 1  ----- >\n",
      "[[0 0 0]]\n",
      "\n"
     ]
    }
   ],
   "source": [
    "M=np.array([[1,1,1],[1,0,1],[0,1,1],[0,0,0]])\n",
    "\n",
    "isUsed=[False,False]\n",
    "root= makeDecisionTree(M,isUsed)\n",
    "q=[]\n",
    "q.append(root)\n",
    "level=0\n",
    "while len(q)!=0:\n",
    "    root=q.pop()\n",
    "    print 'Count of 0 = 'root.nos\n",
    "    print 'Count of 1 = 'root.yeses\n",
    "    print 'Current Entropy at is' \n",
    "    print\n",
    "    children=(len(root.links))\n",
    "    for i in range(children):\n",
    "        q.append(root.links[i])\n",
    "    \n"
   ]
  }
 ],
 "metadata": {
  "kernelspec": {
   "display_name": "Python 2",
   "language": "python",
   "name": "python2"
  },
  "language_info": {
   "codemirror_mode": {
    "name": "ipython",
    "version": 2
   },
   "file_extension": ".py",
   "mimetype": "text/x-python",
   "name": "python",
   "nbconvert_exporter": "python",
   "pygments_lexer": "ipython2",
   "version": "2.7.14"
  }
 },
 "nbformat": 4,
 "nbformat_minor": 2
}
