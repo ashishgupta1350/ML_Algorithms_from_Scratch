{
 "cells": [
  {
   "cell_type": "code",
   "execution_count": 3,
   "metadata": {},
   "outputs": [],
   "source": [
    "import numpy as np"
   ]
  },
  {
   "cell_type": "code",
   "execution_count": 4,
   "metadata": {
    "collapsed": true
   },
   "outputs": [],
   "source": [
    "data=np.loadtxt('data.csv',delimiter=',')"
   ]
  },
  {
   "cell_type": "code",
   "execution_count": 5,
   "metadata": {
    "collapsed": true
   },
   "outputs": [],
   "source": [
    "import matplotlib.pyplot as plt"
   ]
  },
  {
   "cell_type": "code",
   "execution_count": 7,
   "metadata": {
    "collapsed": true
   },
   "outputs": [],
   "source": [
    "x,y=[data[:,0], data[:,1]]"
   ]
  },
  {
   "cell_type": "code",
   "execution_count": 8,
   "metadata": {},
   "outputs": [
    {
     "data": {
      "text/plain": [
       "(100L,)"
      ]
     },
     "execution_count": 8,
     "metadata": {},
     "output_type": "execute_result"
    }
   ],
   "source": [
    "x.shape"
   ]
  },
  {
   "cell_type": "code",
   "execution_count": 9,
   "metadata": {
    "collapsed": true
   },
   "outputs": [],
   "source": [
    "from sklearn import model_selection\n",
    "X_train,X_test,Y_train,Y_test = model_selection.train_test_split(x,y)"
   ]
  },
  {
   "cell_type": "code",
   "execution_count": 10,
   "metadata": {
    "collapsed": true
   },
   "outputs": [],
   "source": [
    "from sklearn.linear_model import LinearRegression as LR"
   ]
  },
  {
   "cell_type": "code",
   "execution_count": 11,
   "metadata": {
    "collapsed": true
   },
   "outputs": [],
   "source": [
    "alg1=LR()"
   ]
  },
  {
   "cell_type": "code",
   "execution_count": 12,
   "metadata": {},
   "outputs": [
    {
     "data": {
      "text/plain": [
       "LinearRegression(copy_X=True, fit_intercept=True, n_jobs=1, normalize=False)"
      ]
     },
     "execution_count": 12,
     "metadata": {},
     "output_type": "execute_result"
    }
   ],
   "source": [
    "alg1.fit(X_train.reshape(-1,1),Y_train)"
   ]
  },
  {
   "cell_type": "code",
   "execution_count": 13,
   "metadata": {},
   "outputs": [
    {
     "data": {
      "text/plain": [
       "13.501478153779146"
      ]
     },
     "execution_count": 13,
     "metadata": {},
     "output_type": "execute_result"
    }
   ],
   "source": [
    "alg1.coef_\n",
    "alg1.intercept_"
   ]
  },
  {
   "cell_type": "code",
   "execution_count": 14,
   "metadata": {},
   "outputs": [
    {
     "data": {
      "image/png": "[encoded data removed]",
      "text/plain": [
       "<matplotlib.figure.Figure at 0xc641f98>"
      ]
     },
     "metadata": {},
     "output_type": "display_data"
    }
   ],
   "source": [
    "plt.scatter(x,y,color='red')\n",
    "plt.xlabel('Xtrain')\n",
    "plt.ylabel('Ytrain')\n",
    "plt.grid()\n",
    "\n",
    "m=alg1.coef_[0]\n",
    "c=alg1.intercept_\n",
    "\n",
    "x_line=np.arange(20,80,0.1)\n",
    "y_line=m*x_line+c\n",
    "plt.plot(x_line,y_line,color='black')\n",
    "\n",
    "\n",
    "plt.show()"
   ]
  },
  {
   "cell_type": "code",
   "execution_count": 15,
   "metadata": {},
   "outputs": [
    {
     "data": {
      "image/png": "[encoded data removed]",
      "text/plain": [
       "<matplotlib.figure.Figure at 0xc641b00>"
      ]
     },
     "metadata": {},
     "output_type": "display_data"
    }
   ],
   "source": [
    "plt.scatter(X_test,Y_test,color='red')\n",
    "plt.xlabel('Xtrain')\n",
    "plt.ylabel('Ytrain')\n",
    "plt.grid()\n",
    "\n",
    "m=alg1.coef_[0]\n",
    "c=alg1.intercept_\n",
    "\n",
    "x_line=np.arange(20,80,0.1)\n",
    "y_line=m*x_line+c\n",
    "plt.plot(x_line,y_line,color='purple')\n",
    "\n",
    "\n",
    "plt.show()"
   ]
  },
  {
   "cell_type": "code",
   "execution_count": 16,
   "metadata": {},
   "outputs": [
    {
     "data": {
      "text/plain": [
       "array([ 5329.60722134,  5329.60722134,  5329.60722134,  5329.60722134,\n",
       "        5329.60722134,  5329.60722134,  5329.60722134,  5329.60722134,\n",
       "        5329.60722134,  5329.60722134,  5329.60722134,  5329.60722134,\n",
       "        5329.60722134,  5329.60722134,  5329.60722134,  5329.60722134,\n",
       "        5329.60722134,  5329.60722134,  5329.60722134,  5329.60722134,\n",
       "        5329.60722134,  5329.60722134,  5329.60722134,  5329.60722134,\n",
       "        5329.60722134])"
      ]
     },
     "execution_count": 16,
     "metadata": {},
     "output_type": "execute_result"
    }
   ],
   "source": [
    "y_pred=X_test*m+c\n",
    "ymean=y_pred.mean()\n",
    "ymean_arr=np.zeros(y_pred.shape)\n",
    "ymean_arr\n",
    "ymean_arr[:]=ymean\n",
    "ymean_arr**2"
   ]
  },
  {
   "cell_type": "code",
   "execution_count": 17,
   "metadata": {
    "collapsed": true
   },
   "outputs": [],
   "source": [
    "score=1-sum((Y_test-y_pred)**2)/sum((Y_test-ymean_arr)**2)"
   ]
  },
  {
   "cell_type": "code",
   "execution_count": 18,
   "metadata": {},
   "outputs": [
    {
     "name": "stdout",
     "output_type": "stream",
     "text": [
      "0.697062143633\n",
      "0.696972249008\n",
      "0.537571733952\n"
     ]
    }
   ],
   "source": [
    "print score\n",
    "\n",
    "print alg1.score(X_test.reshape(-1,1),Y_test)\n",
    "print alg1.score(X_train.reshape(-1,1),Y_train)\n"
   ]
  },
  {
   "cell_type": "code",
   "execution_count": 28,
   "metadata": {},
   "outputs": [],
   "source": [
    "#implementing my own cost function cum linear regression model using normal equations\n",
    "\n",
    "#for 1 d data\n",
    "\n",
    "x1=X_train\n",
    "y1=Y_train\n",
    "\n",
    "slope=((x1*y1).mean()-(y1.mean()*x1.mean()))/((x1**2).mean()-x1.mean()*x1.mean())\n",
    "intercept=y1.mean()-slope*x1.mean()"
   ]
  },
  {
   "cell_type": "code",
   "execution_count": 39,
   "metadata": {},
   "outputs": [
    {
     "data": {
      "text/plain": [
       "array([1, 4, 9])"
      ]
     },
     "execution_count": 39,
     "metadata": {},
     "output_type": "execute_result"
    }
   ],
   "source": [
    "w=np.array([1,2,3])\n",
    "v=np.array([1,2,3])\n",
    "w**2\n"
   ]
  },
  {
   "cell_type": "code",
   "execution_count": 45,
   "metadata": {
    "collapsed": true
   },
   "outputs": [],
   "source": [
    "#defining and doing work in functions helps create usable boxes of code\n",
    "\n",
    "def fit(x1,y1):\n",
    "    slope=((x1*y1).mean()-(y1.mean()*x1.mean()))/((x1**2).mean()-x1.mean()*x1.mean())\n",
    "    intercept=y1.mean()-slope*x1.mean()\n",
    "    return [slope,intercept]\n",
    "\n",
    "def predict(x,m,c):\n",
    "    predictedY=m*x+c\n",
    "    return predictedY\n",
    "\n",
    "def CD(ypred,ytrue):\n",
    "    mymean=ytrue.mean()\n",
    "    score=1-(sum((ytrue-ypred)**2)/sum((ytrue-mymean)**2))\n",
    "    return score\n",
    "\n",
    "def cost(y1,y2):\n",
    "    myCost=sum((y1-y2)**2)\n",
    "    return myCost"
   ]
  },
  {
   "cell_type": "code",
   "execution_count": 41,
   "metadata": {},
   "outputs": [
    {
     "data": {
      "image/png": "[encoded data removed]",
      "text/plain": [
       "<matplotlib.figure.Figure at 0xe0634e0>"
      ]
     },
     "metadata": {},
     "output_type": "display_data"
    },
    {
     "name": "stdout",
     "output_type": "stream",
     "text": [
      "0.696972249008\n"
     ]
    }
   ],
   "source": [
    "#lets predict on the test data:\n",
    "\n",
    "#Method 1, by graph\n",
    "myX=np.linspace(30,80,100)\n",
    "myY=slope*myX+intercept\n",
    "plt.plot(myX,myY,'b')\n",
    "plt.xlabel('X_values')\n",
    "plt.ylabel('Line represent predicted values and Red pts are actuals')\n",
    "plt.grid()\n",
    "\n",
    "plt.scatter(X_test,Y_test,color='red')\n",
    "plt.show()\n",
    "\n",
    "\n",
    "#Method 2, by score\n",
    "ypred=slope*X_test+intercept\n",
    "mymean=Y_test.mean()\n",
    "'''temp=np.zeros(Y_test.shape)\n",
    "temp=temp+mymean\n",
    "mymean=temp'''\n",
    "\n",
    "score=1-(sum((Y_test-ypred)**2)/sum((Y_test-mymean)**2))\n",
    "print score"
   ]
  },
  {
   "cell_type": "code",
   "execution_count": 48,
   "metadata": {},
   "outputs": [
    {
     "name": "stdout",
     "output_type": "stream",
     "text": [
      "0.696972249008\n",
      "0.537571733952\n"
     ]
    }
   ],
   "source": [
    "#using functions created in blocks\n",
    "[m,c]=fit(X_train,Y_train)\n",
    "\n",
    "ypred=predict(X_test,m,c)\n",
    "ypred_train=predict(X_train,m,c)\n",
    "print CD(ypred,Y_test)\n",
    "print CD(ypred_train,Y_train)"
   ]
  },
  {
   "cell_type": "code",
   "execution_count": 36,
   "metadata": {},
   "outputs": [
    {
     "data": {
      "text/plain": [
       "array([2, 3, 4])"
      ]
     },
     "execution_count": 36,
     "metadata": {},
     "output_type": "execute_result"
    }
   ],
   "source": [
    "temp=np.array([1,2,3])\n",
    "temp+1\n"
   ]
  }
 ],
 "metadata": {
  "kernelspec": {
   "display_name": "Python 2",
   "language": "python",
   "name": "python2"
  },
  "language_info": {
   "codemirror_mode": {
    "name": "ipython",
    "version": 2
   },
   "file_extension": ".py",
   "mimetype": "text/x-python",
   "name": "python",
   "nbconvert_exporter": "python",
   "pygments_lexer": "ipython2",
   "version": "2.7.14"
  }
 },
 "nbformat": 4,
 "nbformat_minor": 2
}
