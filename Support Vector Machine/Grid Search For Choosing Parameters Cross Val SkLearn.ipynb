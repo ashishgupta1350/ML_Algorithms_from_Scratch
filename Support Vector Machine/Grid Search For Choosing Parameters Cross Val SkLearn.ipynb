{
 "cells": [
  {
   "cell_type": "code",
   "execution_count": 1,
   "metadata": {
    "collapsed": true
   },
   "outputs": [],
   "source": [
    "from sklearn import datasets as ds\n",
    "import numpy as np\n",
    "from sklearn.model_selection import train_test_split as tts\n",
    "import matplotlib.pyplot as plt\n",
    "from sklearn.model_selection import GridSearchCV #CV stands for cross validation\n",
    "from sklearn.neighbors import KNeighborsClassifier as KNN\n",
    "from sklearn import svm"
   ]
  },
  {
   "cell_type": "code",
   "execution_count": 2,
   "metadata": {
    "collapsed": true
   },
   "outputs": [],
   "source": [
    "data=ds.load_iris()\n",
    "X=data.data\n",
    "Y=data.target\n",
    "X_train,X_test,Y_train,Y_test=tts(X,Y)#chacge this back, used for plotting purposes(x[0:2]) only"
   ]
  },
  {
   "cell_type": "code",
   "execution_count": 3,
   "metadata": {},
   "outputs": [
    {
     "data": {
      "text/plain": [
       "GridSearchCV(cv=None, error_score='raise',\n",
       "       estimator=KNeighborsClassifier(algorithm='auto', leaf_size=30, metric='minkowski',\n",
       "           metric_params=None, n_jobs=1, n_neighbors=5, p=2,\n",
       "           weights='uniform'),\n",
       "       fit_params=None, iid=True, n_jobs=1,\n",
       "       param_grid={'n_neighbors': [1, 3, 5, 7, 9]},\n",
       "       pre_dispatch='2*n_jobs', refit=True, return_train_score='warn',\n",
       "       scoring=None, verbose=0)"
      ]
     },
     "execution_count": 3,
     "metadata": {},
     "output_type": "execute_result"
    }
   ],
   "source": [
    "clf=KNN()\n",
    "grid={'n_neighbors':[1,3,5,7,9]}\n",
    "abc=GridSearchCV(clf,grid) # where the grid is a dictionary which says the grid you want to produce, here it would be of k=1,3,5,7,9 neighbors\n",
    "abc.fit(X_train,Y_train)\n"
   ]
  },
  {
   "cell_type": "code",
   "execution_count": 4,
   "metadata": {},
   "outputs": [
    {
     "name": "stdout",
     "output_type": "stream",
     "text": [
      "0.973214285714\n",
      "\n",
      "KNeighborsClassifier(algorithm='auto', leaf_size=30, metric='minkowski',\n",
      "           metric_params=None, n_jobs=1, n_neighbors=3, p=2,\n",
      "           weights='uniform')\n",
      "\n",
      "{'std_train_score': array([  0.00000000e+00,   8.49377515e-05,   6.20045586e-03,\n",
      "         8.49377515e-05,   6.24335808e-03]), 'rank_test_score': array([5, 1, 1, 1, 1]), 'mean_train_score': array([ 1.        ,  0.98660661,  0.97771772,  0.98660661,  0.98216216]), 'split0_train_score': array([ 1.        ,  0.98648649,  0.98648649,  0.98648649,  0.98648649]), 'std_test_score': array([ 0.01288472,  0.00033675,  0.00033675,  0.00033675,  0.02211536]), 'split1_train_score': array([ 1.        ,  0.98666667,  0.97333333,  0.98666667,  0.97333333]), 'param_n_neighbors': masked_array(data = [1 3 5 7 9],\n",
      "             mask = [False False False False False],\n",
      "       fill_value = ?)\n",
      ", 'mean_test_score': array([ 0.96428571,  0.97321429,  0.97321429,  0.97321429,  0.97321429]), 'split0_test_score': array([ 0.97368421,  0.97368421,  0.97368421,  0.97368421,  1.        ]), 'split2_train_score': array([ 1.        ,  0.98666667,  0.97333333,  0.98666667,  0.98666667]), 'std_score_time': array([  8.16437402e-04,   1.12391596e-07,   4.71426560e-04,\n",
      "         4.71426560e-04,   4.71314168e-04]), 'params': [{'n_neighbors': 1}, {'n_neighbors': 3}, {'n_neighbors': 5}, {'n_neighbors': 7}, {'n_neighbors': 9}], 'std_fit_time': array([ 0.00047137,  0.00047137,  0.00047137,  0.00047137,  0.00047137]), 'split2_test_score': array([ 0.97297297,  0.97297297,  0.97297297,  0.97297297,  0.94594595]), 'mean_score_time': array([ 0.00200009,  0.00100001,  0.0013334 ,  0.0013334 ,  0.00133332]), 'mean_fit_time': array([ 0.00066662,  0.00066662,  0.00066662,  0.00066662,  0.00033331]), 'split1_test_score': array([ 0.94594595,  0.97297297,  0.97297297,  0.97297297,  0.97297297])}\n"
     ]
    }
   ],
   "source": [
    "'''print dir(abc)'''\n",
    "print abc.best_score_\n",
    "print\n",
    "print abc.best_estimator_\n",
    "print\n",
    "print abc.cv_results_"
   ]
  },
  {
   "cell_type": "code",
   "execution_count": 5,
   "metadata": {},
   "outputs": [
    {
     "name": "stdout",
     "output_type": "stream",
     "text": [
      "0.982142857143\n",
      "\n",
      "SVC(C=1, cache_size=200, class_weight=None, coef0=0.0,\n",
      "  decision_function_shape='ovr', degree=3, gamma=1, kernel='rbf',\n",
      "  max_iter=-1, probability=False, random_state=None, shrinking=True,\n",
      "  tol=0.001, verbose=False)\n",
      "\n",
      "{'std_train_score': array([ 0.00390714,  0.00390714,  0.00390714,  0.00390714,  0.01073984,\n",
      "        0.00390714,  0.00390714,  0.00390714,  0.01257079,  0.        ,\n",
      "        0.        ,  0.        ,  0.        ,  0.        ,  0.        ,\n",
      "        0.        ,  0.        ,  0.        ,  0.        ,  0.        ,\n",
      "        0.        ,  0.        ,  0.        ,  0.        ]), 'rank_test_score': array([18, 18, 18, 18,  5, 18, 18, 18,  1,  9, 13, 14,  2,  6, 10, 14,  2,\n",
      "        6, 10, 14,  2,  6, 10, 14]), 'split0_train_score': array([ 0.37837838,  0.37837838,  0.37837838,  0.37837838,  0.97297297,\n",
      "        0.37837838,  0.37837838,  0.37837838,  1.        ,  1.        ,\n",
      "        1.        ,  1.        ,  1.        ,  1.        ,  1.        ,\n",
      "        1.        ,  1.        ,  1.        ,  1.        ,  1.        ,\n",
      "        1.        ,  1.        ,  1.        ,  1.        ]), 'split1_train_score': array([ 0.38666667,  0.38666667,  0.38666667,  0.38666667,  0.94666667,\n",
      "        0.38666667,  0.38666667,  0.38666667,  0.97333333,  1.        ,\n",
      "        1.        ,  1.        ,  1.        ,  1.        ,  1.        ,\n",
      "        1.        ,  1.        ,  1.        ,  1.        ,  1.        ,\n",
      "        1.        ,  1.        ,  1.        ,  1.        ]), 'param_gamma': masked_array(data = [1 10 100 1000 1 10 100 1000 1 10 100 1000 1 10 100 1000 1 10 100 1000 1 10\n",
      " 100 1000],\n",
      "             mask = [False False False False False False False False False False False False\n",
      " False False False False False False False False False False False False],\n",
      "       fill_value = ?)\n",
      ", 'split2_train_score': array([ 0.38666667,  0.38666667,  0.38666667,  0.38666667,  0.96      ,\n",
      "        0.38666667,  0.38666667,  0.38666667,  1.        ,  1.        ,\n",
      "        1.        ,  1.        ,  1.        ,  1.        ,  1.        ,\n",
      "        1.        ,  1.        ,  1.        ,  1.        ,  1.        ,\n",
      "        1.        ,  1.        ,  1.        ,  1.        ]), 'std_score_time': array([  0.00000000e+00,   1.12391596e-07,   4.71370354e-04,\n",
      "         4.71426560e-04,   4.71370354e-04,   0.00000000e+00,\n",
      "         0.00000000e+00,   0.00000000e+00,   0.00000000e+00,\n",
      "         4.71370354e-04,   4.71370354e-04,   1.12391596e-07,\n",
      "         4.71370354e-04,   4.71370354e-04,   4.71482745e-04,\n",
      "         0.00000000e+00,   4.71370354e-04,   4.71482745e-04,\n",
      "         4.71426560e-04,   4.71370354e-04,   4.71370354e-04,\n",
      "         4.71426560e-04,   4.71370354e-04,   4.71482745e-04]), 'split2_test_score': array([ 0.37837838,  0.37837838,  0.37837838,  0.37837838,  0.91891892,\n",
      "        0.37837838,  0.37837838,  0.37837838,  0.97297297,  0.91891892,\n",
      "        0.45945946,  0.37837838,  0.97297297,  0.91891892,  0.54054054,\n",
      "        0.37837838,  0.97297297,  0.91891892,  0.54054054,  0.37837838,\n",
      "        0.97297297,  0.91891892,  0.54054054,  0.37837838]), 'mean_score_time': array([ 0.        ,  0.00100001,  0.00033331,  0.0013334 ,  0.00033331,\n",
      "        0.        ,  0.        ,  0.        ,  0.        ,  0.00033331,\n",
      "        0.00033331,  0.00100009,  0.00033331,  0.00033331,  0.00033339,\n",
      "        0.00099993,  0.00033331,  0.00033339,  0.0006667 ,  0.00033331,\n",
      "        0.00033331,  0.0006667 ,  0.00033331,  0.00033339]), 'mean_fit_time': array([ 0.00233324,  0.0016667 ,  0.0013334 ,  0.00099993,  0.00100001,\n",
      "        0.00133332,  0.00200009,  0.00133332,  0.00100001,  0.00166678,\n",
      "        0.0016667 ,  0.00099993,  0.00066678,  0.00100001,  0.00133332,\n",
      "        0.0013334 ,  0.0006667 ,  0.00166663,  0.00133324,  0.0013334 ,\n",
      "        0.00099993,  0.00100001,  0.00133324,  0.00066662]), 'param_C': masked_array(data = [0.01 0.01 0.01 0.01 0.1 0.1 0.1 0.1 1 1 1 1 10 10 10 10 100 100 100 100\n",
      " 1000 1000 1000 1000],\n",
      "             mask = [False False False False False False False False False False False False\n",
      " False False False False False False False False False False False False],\n",
      "       fill_value = ?)\n",
      ", 'std_test_score': array([ 0.00774519,  0.00774519,  0.00774519,  0.00774519,  0.02240826,\n",
      "        0.00774519,  0.00774519,  0.00774519,  0.01254582,  0.00101024,\n",
      "        0.011005  ,  0.01764312,  0.01212291,  0.01223464,  0.04768158,\n",
      "        0.01764312,  0.01212291,  0.01223464,  0.04768158,  0.01764312,\n",
      "        0.01212291,  0.01223464,  0.04768158,  0.01764312]), 'mean_train_score': array([ 0.3839039 ,  0.3839039 ,  0.3839039 ,  0.3839039 ,  0.95987988,\n",
      "        0.3839039 ,  0.3839039 ,  0.3839039 ,  0.99111111,  1.        ,\n",
      "        1.        ,  1.        ,  1.        ,  1.        ,  1.        ,\n",
      "        1.        ,  1.        ,  1.        ,  1.        ,  1.        ,\n",
      "        1.        ,  1.        ,  1.        ,  1.        ]), 'split0_test_score': array([ 0.39473684,  0.39473684,  0.39473684,  0.39473684,  0.97368421,\n",
      "        0.39473684,  0.39473684,  0.39473684,  0.97368421,  0.92105263,\n",
      "        0.44736842,  0.42105263,  0.94736842,  0.92105263,  0.44736842,\n",
      "        0.42105263,  0.94736842,  0.92105263,  0.44736842,  0.42105263,\n",
      "        0.94736842,  0.92105263,  0.44736842,  0.42105263]), 'mean_test_score': array([ 0.38392857,  0.38392857,  0.38392857,  0.38392857,  0.94642857,\n",
      "        0.38392857,  0.38392857,  0.38392857,  0.98214286,  0.91964286,\n",
      "        0.44642857,  0.40178571,  0.96428571,  0.92857143,  0.47321429,\n",
      "        0.40178571,  0.96428571,  0.92857143,  0.47321429,  0.40178571,\n",
      "        0.96428571,  0.92857143,  0.47321429,  0.40178571]), 'params': [{'C': 0.01, 'gamma': 1}, {'C': 0.01, 'gamma': 10}, {'C': 0.01, 'gamma': 100}, {'C': 0.01, 'gamma': 1000}, {'C': 0.1, 'gamma': 1}, {'C': 0.1, 'gamma': 10}, {'C': 0.1, 'gamma': 100}, {'C': 0.1, 'gamma': 1000}, {'C': 1, 'gamma': 1}, {'C': 1, 'gamma': 10}, {'C': 1, 'gamma': 100}, {'C': 1, 'gamma': 1000}, {'C': 10, 'gamma': 1}, {'C': 10, 'gamma': 10}, {'C': 10, 'gamma': 100}, {'C': 10, 'gamma': 1000}, {'C': 100, 'gamma': 1}, {'C': 100, 'gamma': 10}, {'C': 100, 'gamma': 100}, {'C': 100, 'gamma': 1000}, {'C': 1000, 'gamma': 1}, {'C': 1000, 'gamma': 10}, {'C': 1000, 'gamma': 100}, {'C': 1000, 'gamma': 1000}], 'std_fit_time': array([  4.71482745e-04,   4.71314168e-04,   4.71426560e-04,\n",
      "         0.00000000e+00,   1.12391596e-07,   4.71314168e-04,\n",
      "         0.00000000e+00,   9.42796908e-04,   1.12391596e-07,\n",
      "         4.71370354e-04,   4.71314168e-04,   0.00000000e+00,\n",
      "         4.71482745e-04,   1.12391596e-07,   4.71482745e-04,\n",
      "         4.71426560e-04,   4.71426560e-04,   4.71426560e-04,\n",
      "         4.71370354e-04,   4.71426560e-04,   0.00000000e+00,\n",
      "         1.12391596e-07,   4.71370354e-04,   4.71370354e-04]), 'split1_test_score': array([ 0.37837838,  0.37837838,  0.37837838,  0.37837838,  0.94594595,\n",
      "        0.37837838,  0.37837838,  0.37837838,  1.        ,  0.91891892,\n",
      "        0.43243243,  0.40540541,  0.97297297,  0.94594595,  0.43243243,\n",
      "        0.40540541,  0.97297297,  0.94594595,  0.43243243,  0.40540541,\n",
      "        0.97297297,  0.94594595,  0.43243243,  0.40540541])}\n"
     ]
    }
   ],
   "source": [
    "# now let us try the code for gamma and C(I am trying on my own, with no help)\n",
    "\n",
    "clf=svm.SVC()# svc is the support vector classifier\n",
    "grid={'C':[0.01,0.1,1,10,100,1000], 'gamma':[1,10,100,1000]}\n",
    "gridCLF=GridSearchCV(clf,grid)\n",
    "\n",
    "gridCLF.fit(X_train,Y_train)\n",
    "\n",
    "print gridCLF.best_score_\n",
    "print \n",
    "print gridCLF.best_estimator_\n",
    "print\n",
    "print gridCLF.cv_results_\n"
   ]
  }
 ],
 "metadata": {
  "kernelspec": {
   "display_name": "Python 2",
   "language": "python",
   "name": "python2"
  },
  "language_info": {
   "codemirror_mode": {
    "name": "ipython",
    "version": 2
   },
   "file_extension": ".py",
   "mimetype": "text/x-python",
   "name": "python",
   "nbconvert_exporter": "python",
   "pygments_lexer": "ipython2",
   "version": "2.7.14"
  }
 },
 "nbformat": 4,
 "nbformat_minor": 2
}
